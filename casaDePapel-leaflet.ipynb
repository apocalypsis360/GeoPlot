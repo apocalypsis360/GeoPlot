{
 "cells": [
  {
   "cell_type": "code",
   "execution_count": 1,
   "metadata": {},
   "outputs": [],
   "source": [
    "#classe location\n",
    "#https://ipyleaflet.readthedocs.io/en/latest/api_reference/marker.html\n",
    "class Location:\n",
    "    def __init__(self, pLat=36.3, pLong=137.97):\n",
    "        self.latitude =pLat\n",
    "        self.longitude=pLong"
   ]
  },
  {
   "cell_type": "code",
   "execution_count": 2,
   "metadata": {},
   "outputs": [],
   "source": [
    "#cidades dos personagens\n",
    "casa_moneda = Location(40.42, 3.66)\n",
    "helsinki = Location(60.17, 24.93)\n",
    "oslo = Location(59.91, 10.75)\n",
    "tokyo = Location(35.67, 139.65)\n",
    "rio = Location(-22.90, -43.17)\n",
    "denver = Location(39.74, -105)\n",
    "moscow = Location(55.75, 37.61)\n",
    "berlin = Location (52.52, 13.40)\n",
    "nairobi = Location(-1.29, 36.82)\n"
   ]
  },
  {
   "cell_type": "code",
   "execution_count": 3,
   "metadata": {},
   "outputs": [],
   "source": [
    "#lista personagens \n",
    "lst_cities=[]\n",
    "lst_cities.append(helsinki)\n",
    "lst_cities.append(oslo)\n",
    "lst_cities.append(berlin)\n",
    "lst_cities.append(tokyo)\n",
    "lst_cities.append(rio)\n",
    "lst_cities.append(denver)\n",
    "lst_cities.append(moscow)\n",
    "lst_cities.append(nairobi)\n",
    "lst_cities.append(casa_moneda)"
   ]
  },
  {
   "cell_type": "code",
   "execution_count": 4,
   "metadata": {},
   "outputs": [
    {
     "data": {
      "application/vnd.jupyter.widget-view+json": {
       "model_id": "dfc48043d64e498ab2252fe41043e8c3",
       "version_major": 2,
       "version_minor": 0
      },
      "text/plain": [
       "Map(basemap={'url': 'https://{s}.tile.openstreetmap.org/{z}/{x}/{y}.png', 'max_zoom': 19, 'attribution': 'Map …"
      ]
     },
     "metadata": {},
     "output_type": "display_data"
    }
   ],
   "source": [
    "from ipyleaflet import Map, Marker, Polyline\n",
    "\n",
    "center=(casa_moneda.latitude, casa_moneda.longitude)\n",
    "m = Map(center=center, zoom=2)\n",
    "\n",
    "for city in lst_cities:\n",
    "    #print(city)\n",
    "    \n",
    "    \n",
    "    \n",
    "    marker = Marker(location=(city.latitude, city.longitude), draggable=True)\n",
    "    m.add_layer(marker)\n",
    "    \n",
    "    line = Polyline(locations = [[[[casa_moneda.latitude, casa_moneda.longitude], [city.latitude, city.longitude]],]] ,\n",
    "                color=\"green\",\n",
    "                fill_color=\"green\",\n",
    "                weight=2\n",
    "               )\n",
    "    m.add_layer(line)\n",
    "\n",
    "display(m)\n",
    "    #loc = curitiba\n",
    "#loc = matsumoto\n",
    "#center = (loc.latitude, loc.longitude)\n",
    "\n",
    "#m = Map(center=center, zoom=15)\n",
    "\n",
    "#marker = Marker(location=center, draggable=True)\n",
    "#m.add_layer(marker);"
   ]
  },
  {
   "cell_type": "code",
   "execution_count": null,
   "metadata": {},
   "outputs": [],
   "source": []
  },
  {
   "cell_type": "code",
   "execution_count": null,
   "metadata": {},
   "outputs": [],
   "source": []
  }
 ],
 "metadata": {
  "kernelspec": {
   "display_name": "Python 3",
   "language": "python",
   "name": "python3"
  },
  "language_info": {
   "codemirror_mode": {
    "name": "ipython",
    "version": 3
   },
   "file_extension": ".py",
   "mimetype": "text/x-python",
   "name": "python",
   "nbconvert_exporter": "python",
   "pygments_lexer": "ipython3",
   "version": "3.7.4"
  }
 },
 "nbformat": 4,
 "nbformat_minor": 4
}
